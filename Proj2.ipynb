{
 "cells": [
  {
   "cell_type": "code",
   "execution_count": 1,
   "metadata": {},
   "outputs": [
    {
     "name": "stderr",
     "output_type": "stream",
     "text": [
      "/usr/lib64/python2.7/site-packages/pandas/__init__.py:7: RuntimeWarning: numpy.dtype size changed, may indicate binary incompatibility\n",
      "  from pandas import hashtable, tslib, lib\n",
      "/usr/lib64/python2.7/site-packages/pandas/core/common.py:16: RuntimeWarning: numpy.dtype size changed, may indicate binary incompatibility\n",
      "  import pandas.algos as algos\n",
      "/usr/lib64/python2.7/site-packages/pandas/core/index.py:12: RuntimeWarning: numpy.dtype size changed, may indicate binary incompatibility\n",
      "  import pandas.index as _index\n",
      "/usr/lib64/python2.7/site-packages/pandas/tseries/frequencies.py:16: RuntimeWarning: numpy.dtype size changed, may indicate binary incompatibility\n",
      "  import pandas._period as period\n",
      "/usr/lib64/python2.7/site-packages/pandas/sparse/array.py:16: RuntimeWarning: numpy.dtype size changed, may indicate binary incompatibility\n",
      "  from pandas._sparse import BlockIndex, IntIndex\n",
      "/usr/lib64/python2.7/site-packages/pandas/io/parsers.py:28: RuntimeWarning: numpy.dtype size changed, may indicate binary incompatibility\n",
      "  import pandas.parser as _parser\n"
     ]
    }
   ],
   "source": [
    "import pandas as pd\n",
    "import matplotlib.pyplot as plt\n",
    "import numpy as np\n",
    "import matplotlib.pylab as pl\n",
    "import math"
   ]
  },
  {
   "cell_type": "markdown",
   "metadata": {},
   "source": [
    "To start, with my initial detector set up (which can be seen as a screenshot in a folder clearly labelled), I ran a 300MeV, 600MeV, 3GeV and 300GeV proton beams. Each run had 2000 events. As expected, as the energy increased, the resolution decreased with what looks like an exponential rate. This can be seen in the resolution graphs below.\n",
    "\n",
    "The following 4 code boxes are basically copy and paste jobs, but they import the information from the right file, rename the columns, drop columns where I messed up the nutple saving data and then calculate E_cal and E_energy."
   ]
  },
  {
   "cell_type": "code",
   "execution_count": 2,
   "metadata": {
    "scrolled": true
   },
   "outputs": [],
   "source": [
    "# 300MeV protons fired 2000 times\n",
    "inputData = pd.read_csv( \"./300MeV/output_nt_Energy.csv\", comment=\"#\", header=None)\n",
    "inputData.rename(columns={0: 'True', 3: 'Layer1',4: 'Layer2',5: 'Layer3',6: 'Layer4',7: 'Layer5'}, inplace=True)\n",
    "inputData=inputData.drop([1, 2], axis=1)\n",
    "inputData[\"E_cal_total\"]=(inputData[\"True\"]/(inputData[\"Layer1\"]+inputData[\"Layer2\"]+inputData[\"Layer3\"]+inputData[\"Layer4\"]+inputData[\"Layer5\"]))\n",
    "inputData = inputData.replace([np.inf, -np.inf], np.nan).dropna()\n",
    "E_cal = inputData[\"E_cal_total\"].mean()\n",
    "inputData[\"E_energy\"]=((((inputData[\"Layer1\"]+inputData[\"Layer2\"]+inputData[\"Layer3\"]+inputData[\"Layer4\"]+inputData[\"Layer5\"])*E_cal)-inputData[\"True\"])/inputData[\"True\"])"
   ]
  },
  {
   "cell_type": "code",
   "execution_count": 3,
   "metadata": {},
   "outputs": [],
   "source": [
    "# 3GeV protons fired 2000 times.\n",
    "Data3G = pd.read_csv( \"./3GeV/output_nt_Energy.csv\", comment=\"#\", header=None)\n",
    "Data3G.rename(columns={0: 'True', 3: 'Layer1',4: 'Layer2',5: 'Layer3',6: 'Layer4',7: 'Layer5'}, inplace=True)\n",
    "Data3G=Data3G.drop([1, 2], axis=1)\n",
    "Data3G[\"E_cal_total\"]=(Data3G[\"True\"]/(Data3G[\"Layer1\"]+Data3G[\"Layer2\"]+Data3G[\"Layer3\"]+Data3G[\"Layer4\"]+Data3G[\"Layer5\"]))\n",
    "Data3G = Data3G.replace([np.inf, -np.inf], np.nan).dropna()\n",
    "E_cal = Data3G[\"E_cal_total\"].mean()\n",
    "Data3G[\"E_energy\"]=((((Data3G[\"Layer1\"]+Data3G[\"Layer2\"]+Data3G[\"Layer3\"]+Data3G[\"Layer4\"]+Data3G[\"Layer5\"])*E_cal)-Data3G[\"True\"])/Data3G[\"True\"])"
   ]
  },
  {
   "cell_type": "code",
   "execution_count": 4,
   "metadata": {},
   "outputs": [],
   "source": [
    "# 600MeV protons fired 2000 times.\n",
    "Data600M = pd.read_csv( \"./600MeV/output_nt_Energy.csv\", comment=\"#\", header=None)\n",
    "Data600M.rename(columns={0: 'True', 3: 'Layer1',4: 'Layer2',5: 'Layer3',6: 'Layer4',7: 'Layer5'}, inplace=True)\n",
    "Data600M=Data600M.drop([1, 2], axis=1)\n",
    "Data600M[\"E_cal_total\"]=(Data600M[\"True\"]/(Data600M[\"Layer1\"]+Data600M[\"Layer2\"]+Data600M[\"Layer3\"]+Data600M[\"Layer4\"]+Data600M[\"Layer5\"]))\n",
    "Data600M = Data600M.replace([np.inf, -np.inf], np.nan).dropna()\n",
    "E_cal = Data600M[\"E_cal_total\"].mean()\n",
    "Data600M[\"E_energy\"]=((((Data600M[\"Layer1\"]+Data600M[\"Layer2\"]+Data600M[\"Layer3\"]+Data600M[\"Layer4\"]+Data600M[\"Layer5\"])*E_cal)-Data600M[\"True\"])/Data600M[\"True\"])"
   ]
  },
  {
   "cell_type": "code",
   "execution_count": 5,
   "metadata": {},
   "outputs": [],
   "source": [
    "# 300GeV protons fired 2000 times.\n",
    "BigData = pd.read_csv( \"./300GeV/output_nt_Energy.csv\", comment=\"#\", header=None)\n",
    "BigData.rename(columns={0: 'True', 3: 'Layer1',4: 'Layer2',5: 'Layer3',6: 'Layer4',7: 'Layer5'}, inplace=True)\n",
    "BigData=BigData.drop([1, 2], axis=1)\n",
    "BigData[\"E_cal_total\"]=(BigData[\"True\"]/(BigData[\"Layer1\"]+BigData[\"Layer2\"]+BigData[\"Layer3\"]+BigData[\"Layer4\"]+BigData[\"Layer5\"]))\n",
    "BigData = BigData.replace([np.inf, -np.inf], np.nan).dropna()\n",
    "E_cal = BigData[\"E_cal_total\"].mean()\n",
    "BigData[\"E_energy\"]=((((BigData[\"Layer1\"]+BigData[\"Layer2\"]+BigData[\"Layer3\"]+BigData[\"Layer4\"]+BigData[\"Layer5\"])*E_cal)-BigData[\"True\"])/BigData[\"True\"])"
   ]
  },
  {
   "cell_type": "code",
   "execution_count": 6,
   "metadata": {
    "scrolled": true
   },
   "outputs": [
    {
     "data": {
      "image/png": "[encoded data removed]",
      "text/plain": [
       "<Figure size 432x288 with 4 Axes>"
      ]
     },
     "metadata": {},
     "output_type": "display_data"
    }
   ],
   "source": [
    "plt.subplot(141)\n",
    "plt.gca().set_title('300MeV')\n",
    "inputData[\"E_energy\"].hist(bins='auto')\n",
    "plt.subplot(142)\n",
    "plt.gca().set_title('600MeV')\n",
    "Data600M[\"E_energy\"].hist(bins='auto')\n",
    "plt.subplot(143)\n",
    "plt.gca().set_title('3GeV')\n",
    "Data3G[\"E_energy\"].hist(bins='auto')\n",
    "plt.subplot(144)\n",
    "plt.gca().set_title('300GeV')\n",
    "BigData[\"E_energy\"].hist(bins='auto')\n",
    "plt.show()"
   ]
  },
  {
   "cell_type": "code",
   "execution_count": 7,
   "metadata": {
    "scrolled": true
   },
   "outputs": [
    {
     "data": {
      "text/plain": [
       "(0.24822787335199506,\n",
       " 0.9102312362562782,\n",
       " 1.7446097399031457,\n",
       " 36.65243319988855)"
      ]
     },
     "execution_count": 7,
     "metadata": {},
     "output_type": "execute_result"
    }
   ],
   "source": [
    "inputData[\"E_energy\"].std(),Data600M[\"E_energy\"].std(),Data3G[\"E_energy\"].std(),BigData[\"E_energy\"].std(),"
   ]
  },
  {
   "cell_type": "code",
   "execution_count": 8,
   "metadata": {
    "scrolled": true
   },
   "outputs": [
    {
     "data": {
      "image/png": "[encoded data removed]",
      "text/plain": [
       "<Figure size 432x288 with 4 Axes>"
      ]
     },
     "metadata": {},
     "output_type": "display_data"
    }
   ],
   "source": [
    "plt.subplot(221)\n",
    "plt.gca().set_title('300MeV')\n",
    "pl.hist2d( inputData[\"True\"], inputData[\"E_energy\"], bins=(15,30) )\n",
    "plt.xticks([])\n",
    "plt.subplot(222)\n",
    "plt.gca().set_title('3GeV')\n",
    "pl.hist2d( Data3G[\"True\"], Data3G[\"E_energy\"], bins=(15,30) )\n",
    "plt.xticks([])\n",
    "plt.subplot(223)\n",
    "plt.gca().set_title('600MeV')\n",
    "pl.hist2d( Data600M[\"True\"], Data600M[\"E_energy\"], bins=(15,30) )\n",
    "plt.xticks([])\n",
    "plt.subplot(224)\n",
    "plt.gca().set_title('300GeV')\n",
    "pl.hist2d( BigData[\"True\"], BigData[\"E_energy\"], bins=(15,30) )\n",
    "plt.xticks([])\n",
    "plt.show()"
   ]
  },
  {
   "cell_type": "markdown",
   "metadata": {},
   "source": [
    "I decided to experiment with different particles to see if I could see a difference in resolutions (...as I should). I used neutrons, mu+ and mu- next for a mix of charged/uncharged particles and a range of masses."
   ]
  },
  {
   "cell_type": "code",
   "execution_count": 9,
   "metadata": {
    "scrolled": true
   },
   "outputs": [],
   "source": [
    "# 300MeV neutrons fired 2000 times\n",
    "Neutron300M = pd.read_csv( \"./300MeV_neutron/output_nt_Energy.csv\", comment=\"#\", header=None)\n",
    "Neutron300M.rename(columns={0: 'True', 3: 'Layer1',4: 'Layer2',5: 'Layer3',6: 'Layer4',7: 'Layer5'}, inplace=True)\n",
    "Neutron300M=Neutron300M.drop([1, 2], axis=1)\n",
    "Neutron300M[\"E_cal_total\"]=(Neutron300M[\"True\"]/(Neutron300M[\"Layer1\"]+Neutron300M[\"Layer2\"]+Neutron300M[\"Layer3\"]+Neutron300M[\"Layer4\"]+Neutron300M[\"Layer5\"]))\n",
    "Neutron300M = Neutron300M.replace([np.inf, -np.inf], np.nan).dropna()\n",
    "E_cal = Neutron300M[\"E_cal_total\"].mean()\n",
    "Neutron300M[\"E_energy\"]=((((Neutron300M[\"Layer1\"]+Neutron300M[\"Layer2\"]+Neutron300M[\"Layer3\"]+Neutron300M[\"Layer4\"]+Neutron300M[\"Layer5\"])*E_cal)-Neutron300M[\"True\"])/Neutron300M[\"True\"])"
   ]
  },
  {
   "cell_type": "code",
   "execution_count": 10,
   "metadata": {
    "scrolled": true
   },
   "outputs": [],
   "source": [
    "# Mu+ 300MeV fired 2000 times\n",
    "MuPlus300M = pd.read_csv( \"./300MeV_mu+/output_nt_Energy.csv\", comment=\"#\", header=None)\n",
    "MuPlus300M.rename(columns={0: 'True', 3: 'Layer1',4: 'Layer2',5: 'Layer3',6: 'Layer4',7: 'Layer5'}, inplace=True)\n",
    "MuPlus300M=MuPlus300M.drop([1, 2], axis=1)\n",
    "MuPlus300M[\"E_cal_total\"]=(MuPlus300M[\"True\"]/(MuPlus300M[\"Layer1\"]+MuPlus300M[\"Layer2\"]+MuPlus300M[\"Layer3\"]+MuPlus300M[\"Layer4\"]+MuPlus300M[\"Layer5\"]))\n",
    "MuPlus300M = MuPlus300M.replace([np.inf, -np.inf], np.nan).dropna()\n",
    "E_cal = MuPlus300M[\"E_cal_total\"].mean()\n",
    "MuPlus300M[\"E_energy\"]=((((MuPlus300M[\"Layer1\"]+MuPlus300M[\"Layer2\"]+MuPlus300M[\"Layer3\"]+MuPlus300M[\"Layer4\"]+MuPlus300M[\"Layer5\"])*E_cal)-MuPlus300M[\"True\"])/MuPlus300M[\"True\"])"
   ]
  },
  {
   "cell_type": "code",
   "execution_count": 11,
   "metadata": {},
   "outputs": [],
   "source": [
    "# Mu- 300MeV fired 2000 times\n",
    "MuMinus300M = pd.read_csv( \"./300MeV_mu-/output_nt_Energy.csv\", comment=\"#\", header=None)\n",
    "MuMinus300M.rename(columns={0: 'True', 3: 'Layer1',4: 'Layer2',5: 'Layer3',6: 'Layer4',7: 'Layer5'}, inplace=True)\n",
    "MuMinus300M=MuMinus300M.drop([1, 2], axis=1)\n",
    "MuMinus300M[\"E_cal_total\"]=(MuMinus300M[\"True\"]/(MuMinus300M[\"Layer1\"]+MuMinus300M[\"Layer2\"]+MuMinus300M[\"Layer3\"]+MuMinus300M[\"Layer4\"]+MuMinus300M[\"Layer5\"]))\n",
    "MuMinus300M = MuMinus300M.replace([np.inf, -np.inf], np.nan).dropna()\n",
    "E_cal = MuMinus300M[\"E_cal_total\"].mean()\n",
    "MuMinus300M[\"E_energy\"]=((((MuMinus300M[\"Layer1\"]+MuMinus300M[\"Layer2\"]+MuMinus300M[\"Layer3\"]+MuMinus300M[\"Layer4\"]+MuMinus300M[\"Layer5\"])*E_cal)-MuMinus300M[\"True\"])/MuMinus300M[\"True\"])"
   ]
  },
  {
   "cell_type": "markdown",
   "metadata": {},
   "source": [
    "All the particles were 300MeV fired 2000 times. Below you can clearly see the muons have the narrowest resolution whilst the neutron has the widest. The proton is strange as its resolution isn't centred on 0. Possibly because I used brass instead of something like lead?"
   ]
  },
  {
   "cell_type": "code",
   "execution_count": 12,
   "metadata": {
    "scrolled": true
   },
   "outputs": [
    {
     "data": {
      "image/png": "[encoded data removed]",
      "text/plain": [
       "<Figure size 432x288 with 4 Axes>"
      ]
     },
     "metadata": {},
     "output_type": "display_data"
    }
   ],
   "source": [
    "plt.subplot(141)\n",
    "plt.gca().set_title('proton')\n",
    "inputData[\"E_energy\"].hist(bins='auto')\n",
    "plt.subplot(142)\n",
    "plt.gca().set_title('neutron')\n",
    "Neutron300M[\"E_energy\"].hist(bins='auto')\n",
    "plt.subplot(143)\n",
    "plt.gca().set_title('mu+')\n",
    "MuPlus300M[\"E_energy\"].hist(bins='auto')\n",
    "plt.subplot(144)\n",
    "plt.gca().set_title('mu-')\n",
    "MuMinus300M[\"E_energy\"].hist(bins='auto')\n",
    "plt.show()"
   ]
  },
  {
   "cell_type": "code",
   "execution_count": 13,
   "metadata": {
    "scrolled": true
   },
   "outputs": [
    {
     "data": {
      "image/png": "[encoded data removed]",
      "text/plain": [
       "<Figure size 432x288 with 4 Axes>"
      ]
     },
     "metadata": {},
     "output_type": "display_data"
    }
   ],
   "source": [
    "plt.subplot(141)\n",
    "plt.gca().set_title('proton')\n",
    "pl.hist2d( inputData[\"True\"], inputData[\"E_energy\"], bins=(15,30) )\n",
    "plt.xticks([])\n",
    "plt.subplot(142)\n",
    "plt.gca().set_title('neutron')\n",
    "pl.hist2d( Neutron300M[\"True\"], Neutron300M[\"E_energy\"], bins=(15,30) )\n",
    "plt.xticks([])\n",
    "plt.subplot(143)\n",
    "plt.gca().set_title('mu+')\n",
    "pl.hist2d( MuPlus300M[\"True\"], MuPlus300M[\"E_energy\"], bins=(15,30) )\n",
    "plt.xticks([])\n",
    "plt.subplot(144)\n",
    "plt.gca().set_title('mu-')\n",
    "pl.hist2d( MuMinus300M[\"True\"], MuMinus300M[\"E_energy\"], bins=(15,30) )\n",
    "plt.xticks([])\n",
    "plt.show()"
   ]
  },
  {
   "cell_type": "markdown",
   "metadata": {},
   "source": [
    "Next I decided to implement the incremental increases to energy to see how that effect the resolution for both protons and mu+. I chose two positive particles as I had a magnetic field applied and wanted to see if it was just the proton that gave strange results or whether it was all(?) positive particles in my experiment."
   ]
  },
  {
   "cell_type": "code",
   "execution_count": 14,
   "metadata": {},
   "outputs": [],
   "source": [
    "# 300MeV protons increased by 100MeV each run for 2000 runs\n",
    "IncrData = pd.read_csv( \"./StepUpMeV/output_nt_Energy.csv\", comment=\"#\", header=None)\n",
    "IncrData.rename(columns={0: 'True', 3: 'Layer1',4: 'Layer2',5: 'Layer3',6: 'Layer4',7: 'Layer5'}, inplace=True)\n",
    "IncrData=IncrData.drop([1, 2], axis=1)\n",
    "IncrData[\"E_cal_total\"]=(IncrData[\"True\"]/(IncrData[\"Layer1\"]+IncrData[\"Layer2\"]+IncrData[\"Layer3\"]+IncrData[\"Layer4\"]+IncrData[\"Layer5\"]))\n",
    "IncrData = IncrData.replace([np.inf, -np.inf], np.nan).dropna()\n",
    "E_cal_ramped = IncrData[\"E_cal_total\"].mean()\n",
    "IncrData[\"E_energy\"]=((((IncrData[\"Layer1\"]+IncrData[\"Layer2\"]+IncrData[\"Layer3\"]+IncrData[\"Layer4\"]+IncrData[\"Layer5\"])*E_cal_ramped)-IncrData[\"True\"])/IncrData[\"True\"])"
   ]
  },
  {
   "cell_type": "code",
   "execution_count": 15,
   "metadata": {},
   "outputs": [],
   "source": [
    "# 300MeV Mu+ increased by 100MeV each run for 2000 runs\n",
    "IncrDataMu = pd.read_csv( \"./RampingMu+/output_nt_Energy.csv\", comment=\"#\", header=None)\n",
    "IncrDataMu.rename(columns={0: 'True', 3: 'Layer1',4: 'Layer2',5: 'Layer3',6: 'Layer4',7: 'Layer5'}, inplace=True)\n",
    "IncrDataMu=IncrDataMu.drop([1, 2], axis=1)\n",
    "IncrDataMu[\"E_cal_total\"]=(IncrDataMu[\"True\"]/(IncrDataMu[\"Layer1\"]+IncrDataMu[\"Layer2\"]+IncrDataMu[\"Layer3\"]+IncrDataMu[\"Layer4\"]+IncrDataMu[\"Layer5\"]))\n",
    "IncrDataMu = IncrDataMu.replace([np.inf, -np.inf], np.nan).dropna()\n",
    "E_cal_ramped = IncrDataMu[\"E_cal_total\"].mean()\n",
    "IncrDataMu[\"E_energy\"]=((((IncrDataMu[\"Layer1\"]+IncrDataMu[\"Layer2\"]+IncrDataMu[\"Layer3\"]+IncrDataMu[\"Layer4\"]+IncrDataMu[\"Layer5\"])*E_cal_ramped)-IncrDataMu[\"True\"])/IncrDataMu[\"True\"])"
   ]
  },
  {
   "cell_type": "code",
   "execution_count": 16,
   "metadata": {},
   "outputs": [
    {
     "data": {
      "image/png": "[encoded data removed]",
      "text/plain": [
       "<Figure size 432x288 with 2 Axes>"
      ]
     },
     "metadata": {},
     "output_type": "display_data"
    }
   ],
   "source": [
    "plt.subplot(121)\n",
    "plt.xlim(-10,50)\n",
    "IncrData[\"E_energy\"].hist(bins='auto')\n",
    "plt.subplot(122)\n",
    "plt.xlim(-10,50)\n",
    "IncrDataMu[\"E_energy\"].hist(bins='auto')\n",
    "plt.show()"
   ]
  },
  {
   "cell_type": "code",
   "execution_count": 17,
   "metadata": {},
   "outputs": [
    {
     "data": {
      "text/plain": [
       "(14.59154351624159, 9.88358774708678)"
      ]
     },
     "execution_count": 17,
     "metadata": {},
     "output_type": "execute_result"
    }
   ],
   "source": [
    "IncrData[\"E_energy\"].std(),IncrDataMu[\"E_energy\"].std()"
   ]
  },
  {
   "cell_type": "markdown",
   "metadata": {},
   "source": [
    "Unsurprisingly, my data isn't even gaussian BUT is centred on 0. Which I guess shows it's working but there's some sort of systematic error somewhere that messes with negative values."
   ]
  },
  {
   "cell_type": "code",
   "execution_count": 18,
   "metadata": {
    "scrolled": true
   },
   "outputs": [
    {
     "data": {
      "image/png": "[encoded data removed]",
      "text/plain": [
       "<Figure size 432x288 with 2 Axes>"
      ]
     },
     "metadata": {},
     "output_type": "display_data"
    }
   ],
   "source": [
    "plt.subplot(121)\n",
    "pl.hist2d( IncrData[\"True\"], IncrData[\"E_energy\"], bins=(100,50) )\n",
    "plt.subplot(122)\n",
    "pl.hist2d( IncrDataMu[\"True\"], IncrDataMu[\"E_energy\"], bins=(100,50) )\n",
    "plt.show()"
   ]
  },
  {
   "cell_type": "markdown",
   "metadata": {},
   "source": [
    "A little more surprising is that the two particles show the same trend in resolution over the same range, but the mu+ is much more often correctly accounted for."
   ]
  },
  {
   "cell_type": "markdown",
   "metadata": {},
   "source": [
    "So to check the experiment, I attempted to use the truth data next (I went back to constant energy particles), similar to the checkpoint (I didn't do very well, I tried to merge dataframes cos I thought I could beat the system ..I didn't) but given the results, I'm still not sure I did it right"
   ]
  },
  {
   "cell_type": "code",
   "execution_count": 19,
   "metadata": {},
   "outputs": [],
   "source": [
    "truthData = pd.read_csv( \"./300MeVTruth/output_nt_Tracker1.csv\", comment=\"#\",\n",
    "names=[ \"EventID\", \"Phi\", \"Theta\", \"Energy\" ] )\n",
    "tracker1Data = pd.read_csv( \"./300MeVTruth/output_nt_Tracker1.csv\", comment=\"#\",\n",
    "names=[ \"EventID\", \"tracker1Phi\", \"tracker1Theta\" ] )\n",
    "tracker2Data = pd.read_csv( \"./300MeVTruth/output_nt_Tracker2.csv\", comment=\"#\",\n",
    "names=[ \"EventID\", \"tracker2Phi\", \"tracker2Theta\" ] )"
   ]
  },
  {
   "cell_type": "code",
   "execution_count": 20,
   "metadata": {
    "scrolled": true
   },
   "outputs": [
    {
     "data": {
      "text/plain": [
       "EventID\n",
       "0     1\n",
       "1     1\n",
       "2     1\n",
       "3     1\n",
       "4    29\n",
       "Name: Phi, dtype: int64"
      ]
     },
     "execution_count": 20,
     "metadata": {},
     "output_type": "execute_result"
    }
   ],
   "source": [
    "m = truthData.groupby(\"EventID\").count()\n",
    "m.Phi.head()"
   ]
  },
  {
   "cell_type": "code",
   "execution_count": 21,
   "metadata": {},
   "outputs": [],
   "source": [
    "truthData[\"tracker1Phi\"]=tracker1Data[\"tracker1Phi\"]\n",
    "truthData[\"tracker2Phi\"]=tracker2Data[\"tracker2Phi\"]\n",
    "truthData[\"tracker1Theta\"]=tracker1Data[\"tracker1Theta\"]\n",
    "truthData[\"deltaPhi\"]=np.abs(truthData[\"tracker1Phi\"] - truthData[\"tracker2Phi\"])\n",
    "\n",
    "truthData = truthData.where(truthData[\"deltaPhi\"] < 0.001)\n",
    "\n",
    "truthData[\"sagitta\"] = np.sin(truthData[\"deltaPhi\"])\n",
    "\n",
    "truthData[\"R\"]= (0.4**2.0) / (8.0*truthData[\"sagitta\"])\n",
    "\n",
    "truthData[\"p_T\"]=0.3*0.1*truthData[\"R\"]\n",
    "\n",
    "truthData[\"p\"]=truthData[\"p_T\"] / np.sin(truthData[\"tracker1Theta\"])\n",
    "\n",
    "truthData[\"dist\"]=(truthData[\"p\"]-300)/300\n",
    "\n",
    "truthData=truthData.drop([\"Energy\"], axis=1)\n",
    "\n",
    "truthData = truthData.replace([np.inf, -np.inf], np.nan).dropna()"
   ]
  },
  {
   "cell_type": "code",
   "execution_count": 22,
   "metadata": {},
   "outputs": [
    {
     "data": {
      "text/html": [
       "<div>\n",
       "<table border=\"1\" class=\"dataframe\">\n",
       "  <thead>\n",
       "    <tr style=\"text-align: right;\">\n",
       "      <th></th>\n",
       "      <th>EventID</th>\n",
       "      <th>Phi</th>\n",
       "      <th>Theta</th>\n",
       "      <th>tracker1Phi</th>\n",
       "      <th>tracker2Phi</th>\n",
       "      <th>tracker1Theta</th>\n",
       "      <th>deltaPhi</th>\n",
       "      <th>sagitta</th>\n",
       "      <th>R</th>\n",
       "      <th>p_T</th>\n",
       "      <th>p</th>\n",
       "      <th>dist</th>\n",
       "    </tr>\n",
       "  </thead>\n",
       "  <tbody>\n",
       "    <tr>\n",
       "      <th>5</th>\n",
       "      <td>4</td>\n",
       "      <td>-0.000011</td>\n",
       "      <td>1.56666</td>\n",
       "      <td>-0.000011</td>\n",
       "      <td>-0.000590</td>\n",
       "      <td>1.56666</td>\n",
       "      <td>0.000579</td>\n",
       "      <td>0.000579</td>\n",
       "      <td>34.567391</td>\n",
       "      <td>1.037022</td>\n",
       "      <td>1.037031</td>\n",
       "      <td>-0.996543</td>\n",
       "    </tr>\n",
       "    <tr>\n",
       "      <th>6</th>\n",
       "      <td>4</td>\n",
       "      <td>0.000132</td>\n",
       "      <td>1.56680</td>\n",
       "      <td>0.000132</td>\n",
       "      <td>-0.000594</td>\n",
       "      <td>1.56680</td>\n",
       "      <td>0.000725</td>\n",
       "      <td>0.000725</td>\n",
       "      <td>27.572176</td>\n",
       "      <td>0.827165</td>\n",
       "      <td>0.827172</td>\n",
       "      <td>-0.997243</td>\n",
       "    </tr>\n",
       "    <tr>\n",
       "      <th>39</th>\n",
       "      <td>11</td>\n",
       "      <td>0.000000</td>\n",
       "      <td>1.56666</td>\n",
       "      <td>0.000000</td>\n",
       "      <td>-0.000816</td>\n",
       "      <td>1.56666</td>\n",
       "      <td>0.000816</td>\n",
       "      <td>0.000816</td>\n",
       "      <td>24.497318</td>\n",
       "      <td>0.734920</td>\n",
       "      <td>0.734926</td>\n",
       "      <td>-0.997550</td>\n",
       "    </tr>\n",
       "    <tr>\n",
       "      <th>40</th>\n",
       "      <td>12</td>\n",
       "      <td>0.000000</td>\n",
       "      <td>1.56666</td>\n",
       "      <td>0.000000</td>\n",
       "      <td>-0.000512</td>\n",
       "      <td>1.56666</td>\n",
       "      <td>0.000512</td>\n",
       "      <td>0.000512</td>\n",
       "      <td>39.092432</td>\n",
       "      <td>1.172773</td>\n",
       "      <td>1.172783</td>\n",
       "      <td>-0.996091</td>\n",
       "    </tr>\n",
       "    <tr>\n",
       "      <th>41</th>\n",
       "      <td>13</td>\n",
       "      <td>0.000000</td>\n",
       "      <td>1.56666</td>\n",
       "      <td>0.000000</td>\n",
       "      <td>-0.000364</td>\n",
       "      <td>1.56666</td>\n",
       "      <td>0.000364</td>\n",
       "      <td>0.000364</td>\n",
       "      <td>54.995217</td>\n",
       "      <td>1.649856</td>\n",
       "      <td>1.649871</td>\n",
       "      <td>-0.994500</td>\n",
       "    </tr>\n",
       "  </tbody>\n",
       "</table>\n",
       "</div>"
      ],
      "text/plain": [
       "    EventID       Phi    Theta  tracker1Phi  tracker2Phi  tracker1Theta  \\\n",
       "5         4 -0.000011  1.56666    -0.000011    -0.000590        1.56666   \n",
       "6         4  0.000132  1.56680     0.000132    -0.000594        1.56680   \n",
       "39       11  0.000000  1.56666     0.000000    -0.000816        1.56666   \n",
       "40       12  0.000000  1.56666     0.000000    -0.000512        1.56666   \n",
       "41       13  0.000000  1.56666     0.000000    -0.000364        1.56666   \n",
       "\n",
       "    deltaPhi   sagitta          R       p_T         p      dist  \n",
       "5   0.000579  0.000579  34.567391  1.037022  1.037031 -0.996543  \n",
       "6   0.000725  0.000725  27.572176  0.827165  0.827172 -0.997243  \n",
       "39  0.000816  0.000816  24.497318  0.734920  0.734926 -0.997550  \n",
       "40  0.000512  0.000512  39.092432  1.172773  1.172783 -0.996091  \n",
       "41  0.000364  0.000364  54.995217  1.649856  1.649871 -0.994500  "
      ]
     },
     "execution_count": 22,
     "metadata": {},
     "output_type": "execute_result"
    }
   ],
   "source": [
    "truthData.head()"
   ]
  },
  {
   "cell_type": "code",
   "execution_count": 23,
   "metadata": {},
   "outputs": [
    {
     "data": {
      "text/plain": [
       "<matplotlib.axes._subplots.AxesSubplot at 0x7fa981206490>"
      ]
     },
     "execution_count": 23,
     "metadata": {},
     "output_type": "execute_result"
    },
    {
     "data": {
      "image/png": "[encoded data removed]",
      "text/plain": [
       "<Figure size 432x288 with 1 Axes>"
      ]
     },
     "metadata": {},
     "output_type": "display_data"
    }
   ],
   "source": [
    "truthData[\"dist\"].hist(bins='auto')"
   ]
  },
  {
   "cell_type": "markdown",
   "metadata": {},
   "source": [
    "Although obviously not centred on 0. This process I followed was from the checkpoint and based on the fact that the magnetic field was in the z-direction. In my experiment, my magnetic field was in the y-direction. I am hoping that this is the reason my distribution isn't centred on 0 but -1.0."
   ]
  },
  {
   "cell_type": "markdown",
   "metadata": {},
   "source": [
    "# IMPROVEMENTS\n",
    "\n",
    "So now having made the experiment and tested multiple different particles, it's now time to try and attempt to improve the resolution. In the following, I try adding more layers to the existing template before changing the shape of the detectors (seen as screenshots in the folder labelled) and then adding more layers of detectors and different material detectors."
   ]
  },
  {
   "cell_type": "markdown",
   "metadata": {},
   "source": [
    "The following is me adding more layers of detectors (from 5 -> 10)"
   ]
  },
  {
   "cell_type": "code",
   "execution_count": 24,
   "metadata": {},
   "outputs": [],
   "source": [
    "muminuslayers = pd.read_csv( \"./300MeV_mu-_moredetectorlayers/output_nt_Energy.csv\", comment=\"#\", header=None)\n",
    "muminuslayers.rename(columns={0: 'True',1 : 'Layer1',2: 'Layer2',3: 'Layer3',4: 'Layer4',5: 'Layer5',6: 'Layer6',7: 'Layer7',8: 'Layer8',9: 'Layer9',10: 'Layer10'}, inplace=True)\n",
    "muminuslayers[\"E_cal_total\"]=(muminuslayers[\"True\"]/(muminuslayers[\"Layer1\"]+muminuslayers[\"Layer2\"]+muminuslayers[\"Layer3\"]+muminuslayers[\"Layer4\"]+muminuslayers[\"Layer5\"]+muminuslayers[\"Layer6\"]+muminuslayers[\"Layer7\"]+muminuslayers[\"Layer8\"]+muminuslayers[\"Layer9\"]+muminuslayers[\"Layer10\"]))\n",
    "E_cal_ramped = muminuslayers[\"E_cal_total\"].mean()\n",
    "muminuslayers[\"E_energy\"]=((((muminuslayers[\"Layer1\"]+muminuslayers[\"Layer2\"]+muminuslayers[\"Layer3\"]+muminuslayers[\"Layer4\"]+muminuslayers[\"Layer5\"]+muminuslayers[\"Layer6\"]+muminuslayers[\"Layer7\"]+muminuslayers[\"Layer8\"]+muminuslayers[\"Layer9\"]+muminuslayers[\"Layer10\"])*E_cal_ramped)-muminuslayers[\"True\"])/muminuslayers[\"True\"])"
   ]
  },
  {
   "cell_type": "code",
   "execution_count": 25,
   "metadata": {
    "scrolled": true
   },
   "outputs": [
    {
     "data": {
      "text/plain": [
       "<matplotlib.axes._subplots.AxesSubplot at 0x7fa981244e90>"
      ]
     },
     "execution_count": 25,
     "metadata": {},
     "output_type": "execute_result"
    },
    {
     "data": {
      "image/png": "[encoded data removed]",
      "text/plain": [
       "<Figure size 432x288 with 2 Axes>"
      ]
     },
     "metadata": {},
     "output_type": "display_data"
    }
   ],
   "source": [
    "plt.subplot(121)\n",
    "plt.gca().set_title('mu- more layers of detectors')\n",
    "muminuslayers[\"E_energy\"].hist(bins='auto')\n",
    "plt.subplot(122)\n",
    "plt.gca().set_title('mu- original')\n",
    "MuMinus300M[\"E_energy\"].hist(bins='auto')"
   ]
  },
  {
   "cell_type": "code",
   "execution_count": 26,
   "metadata": {},
   "outputs": [
    {
     "data": {
      "text/plain": [
       "(0.056451088248459645, 0.0507074856720685)"
      ]
     },
     "execution_count": 26,
     "metadata": {},
     "output_type": "execute_result"
    }
   ],
   "source": [
    "muminuslayers[\"E_energy\"].std(), MuMinus300M[\"E_energy\"].std()"
   ]
  },
  {
   "cell_type": "markdown",
   "metadata": {},
   "source": [
    "So we can clearly see that the resolution for the original is better than the resolution of adding more layers. This isn't what I expected as I figured that the more layers there were for energy to be deposited, the more accurate the calculation of E would be and hence a narrower resolution.\n",
    "\n",
    "However, maybe because I used brass instead of a proper HEP material, more layers caused more interactions/particle production than before."
   ]
  },
  {
   "cell_type": "markdown",
   "metadata": {},
   "source": [
    "So instead of adding layers, I decided to try to change the shape of the detectors to catch more rapidity in the experiment. I went from a disk shaped detector to half a hollow sphere. which can be seen in the screenshots."
   ]
  },
  {
   "cell_type": "code",
   "execution_count": 27,
   "metadata": {},
   "outputs": [],
   "source": [
    "MuMinusShape300M = pd.read_csv( \"./300MeV_mu-_newdetectorshape/output_nt_Energy.csv\", comment=\"#\", header=None)\n",
    "MuMinusShape300M.rename(columns={0: 'True', 1: 'Layer1',2: 'Layer2',3: 'Layer3',4: 'Layer4',5: 'Layer5'}, inplace=True)\n",
    "MuMinusShape300M[\"E_cal_total\"]=(MuMinusShape300M[\"True\"]/(MuMinusShape300M[\"Layer1\"]+MuMinusShape300M[\"Layer2\"]+MuMinusShape300M[\"Layer3\"]+MuMinusShape300M[\"Layer4\"]+MuMinusShape300M[\"Layer5\"]))\n",
    "MuMinusShape300M = MuMinusShape300M.replace([np.inf, -np.inf], np.nan).dropna()\n",
    "E_cal = MuMinusShape300M[\"E_cal_total\"].mean()\n",
    "MuMinusShape300M[\"E_energy\"]=((((MuMinusShape300M[\"Layer1\"]+MuMinusShape300M[\"Layer2\"]+MuMinusShape300M[\"Layer3\"]+MuMinusShape300M[\"Layer4\"]+MuMinusShape300M[\"Layer5\"])*E_cal)-MuMinusShape300M[\"True\"])/MuMinusShape300M[\"True\"])"
   ]
  },
  {
   "cell_type": "code",
   "execution_count": 28,
   "metadata": {},
   "outputs": [
    {
     "data": {
      "text/plain": [
       "<matplotlib.axes._subplots.AxesSubplot at 0x7fa98180e510>"
      ]
     },
     "execution_count": 28,
     "metadata": {},
     "output_type": "execute_result"
    },
    {
     "data": {
      "image/png": "[encoded data removed]",
      "text/plain": [
       "<Figure size 432x288 with 3 Axes>"
      ]
     },
     "metadata": {},
     "output_type": "display_data"
    }
   ],
   "source": [
    "plt.subplot(131)\n",
    "plt.gca().set_title('mu- different shape')\n",
    "MuMinusShape300M[\"E_energy\"].hist(bins='auto')\n",
    "plt.subplot(132)\n",
    "plt.gca().set_title('mu- more layers')\n",
    "muminuslayers[\"E_energy\"].hist(bins='auto')\n",
    "plt.subplot(133)\n",
    "plt.gca().set_title('mu- original')\n",
    "MuMinus300M[\"E_energy\"].hist(bins='auto')"
   ]
  },
  {
   "cell_type": "code",
   "execution_count": 29,
   "metadata": {},
   "outputs": [
    {
     "data": {
      "text/plain": [
       "(0.16810382428236212, 0.056451088248459645, 0.0507074856720685)"
      ]
     },
     "execution_count": 29,
     "metadata": {},
     "output_type": "execute_result"
    }
   ],
   "source": [
    "MuMinusShape300M[\"E_energy\"].std(), muminuslayers[\"E_energy\"].std(), MuMinus300M[\"E_energy\"].std()"
   ]
  },
  {
   "cell_type": "markdown",
   "metadata": {},
   "source": [
    "The new spherical detectors seem to be EVEN WORSE at detecting than their disk shaped counterparts. They are made of the same material so I can only assumed that the geometry is affecting the resolution here."
   ]
  },
  {
   "cell_type": "code",
   "execution_count": 30,
   "metadata": {},
   "outputs": [
    {
     "name": "stderr",
     "output_type": "stream",
     "text": [
      "/usr/lib64/python2.7/site-packages/matplotlib/cbook/deprecation.py:107: MatplotlibDeprecationWarning: Adding an axes using the same arguments as a previous axes currently reuses the earlier instance.  In a future version, a new instance will always be created and returned.  Meanwhile, this warning can be suppressed, and the future behavior ensured, by passing a unique label to each axes instance.\n",
      "  warnings.warn(message, mplDeprecation, stacklevel=1)\n"
     ]
    },
    {
     "data": {
      "text/plain": [
       "[]"
      ]
     },
     "execution_count": 30,
     "metadata": {},
     "output_type": "execute_result"
    },
    {
     "data": {
      "image/png": "[encoded data removed]",
      "text/plain": [
       "<Figure size 432x288 with 1 Axes>"
      ]
     },
     "metadata": {},
     "output_type": "display_data"
    }
   ],
   "source": [
    "plt.xlim(-0.5,0.5)\n",
    "plt.subplot(111)\n",
    "MuMinusShape300M[\"E_energy\"].hist(bins='auto')\n",
    "plt.subplot(111)\n",
    "muminuslayers[\"E_energy\"].hist(bins='auto')\n",
    "plt.subplot(111)\n",
    "MuMinus300M[\"E_energy\"].hist(bins='auto')\n",
    "plt.plot()"
   ]
  },
  {
   "cell_type": "markdown",
   "metadata": {},
   "source": [
    "GREEN = NORMAL MU- //\n",
    "ORANGE = MU- MORE LAYERS (10) ORIGINAL LAYOUT //\n",
    "BLUE = MU- NEW SHAPE (5 LAYERS)\n",
    "\n",
    "It's clear when you plot the data on top of each other than the resolutions are worse, but what's more clear is that the main difference between the number of layers and shape isn't much. The trend is similar, the only difference is the tails of the blue data is much more spread out which is the main reason for the decreased resolution."
   ]
  },
  {
   "cell_type": "markdown",
   "metadata": {},
   "source": [
    "Just to check how bad my new geometry actually was, I decided to again implement the incremental particle energy. I used multiple particles for comparison, Mu-, Mu+, Neutrons and photons."
   ]
  },
  {
   "cell_type": "code",
   "execution_count": 31,
   "metadata": {},
   "outputs": [],
   "source": [
    "RampMuMin = pd.read_csv( \"./Ramping_mu-_new set up/output_nt_Energy.csv\", comment=\"#\", header=None)\n",
    "RampMuMin.rename(columns={0: 'True',1 : 'Layer1',2: 'Layer2',3: 'Layer3',4: 'Layer4',5: 'Layer5',6: 'Layer6',7: 'Layer7',8: 'Layer8',9: 'Layer9',10: 'Layer10'}, inplace=True)\n",
    "RampMuMin[\"E_cal_total\"]=(RampMuMin[\"True\"]/(RampMuMin[\"Layer1\"]+RampMuMin[\"Layer2\"]+RampMuMin[\"Layer3\"]+RampMuMin[\"Layer4\"]+RampMuMin[\"Layer5\"]+RampMuMin[\"Layer6\"]+RampMuMin[\"Layer7\"]+RampMuMin[\"Layer8\"]+RampMuMin[\"Layer9\"]+RampMuMin[\"Layer10\"]))\n",
    "E_cal_ramped = RampMuMin[\"E_cal_total\"].mean()\n",
    "RampMuMin[\"E_energy\"]=((((RampMuMin[\"Layer1\"]+RampMuMin[\"Layer2\"]+RampMuMin[\"Layer3\"]+RampMuMin[\"Layer4\"]+RampMuMin[\"Layer5\"]+RampMuMin[\"Layer6\"]+RampMuMin[\"Layer7\"]+RampMuMin[\"Layer8\"]+RampMuMin[\"Layer9\"]+RampMuMin[\"Layer10\"])*E_cal_ramped)-RampMuMin[\"True\"])/RampMuMin[\"True\"])"
   ]
  },
  {
   "cell_type": "code",
   "execution_count": 32,
   "metadata": {},
   "outputs": [],
   "source": [
    "RampMuPlu = pd.read_csv( \"./Ramping_mu+_new set up/output_nt_Energy.csv\", comment=\"#\", header=None)\n",
    "RampMuPlu.rename(columns={0: 'True',1 : 'Layer1',2: 'Layer2',3: 'Layer3',4: 'Layer4',5: 'Layer5',6: 'Layer6',7: 'Layer7',8: 'Layer8',9: 'Layer9',10: 'Layer10'}, inplace=True)\n",
    "RampMuPlu[\"E_cal_total\"]=(RampMuPlu[\"True\"]/(RampMuPlu[\"Layer1\"]+RampMuPlu[\"Layer2\"]+RampMuPlu[\"Layer3\"]+RampMuPlu[\"Layer4\"]+RampMuPlu[\"Layer5\"]+RampMuPlu[\"Layer6\"]+RampMuPlu[\"Layer7\"]+RampMuPlu[\"Layer8\"]+RampMuPlu[\"Layer9\"]+RampMuPlu[\"Layer10\"]))\n",
    "E_cal_ramped = RampMuPlu[\"E_cal_total\"].mean()\n",
    "RampMuPlu[\"E_energy\"]=((((RampMuPlu[\"Layer1\"]+RampMuPlu[\"Layer2\"]+RampMuPlu[\"Layer3\"]+RampMuPlu[\"Layer4\"]+RampMuPlu[\"Layer5\"]+RampMuPlu[\"Layer6\"]+RampMuPlu[\"Layer7\"]+RampMuPlu[\"Layer8\"]+RampMuPlu[\"Layer9\"]+RampMuPlu[\"Layer10\"])*E_cal_ramped)-RampMuPlu[\"True\"])/RampMuPlu[\"True\"])"
   ]
  },
  {
   "cell_type": "code",
   "execution_count": 33,
   "metadata": {},
   "outputs": [],
   "source": [
    "RampNeu = pd.read_csv( \"./Ramping_neutron_new set up/output_nt_Energy.csv\", comment=\"#\", header=None)\n",
    "RampNeu.rename(columns={0: 'True',1 : 'Layer1',2: 'Layer2',3: 'Layer3',4: 'Layer4',5: 'Layer5',6: 'Layer6',7: 'Layer7',8: 'Layer8',9: 'Layer9',10: 'Layer10'}, inplace=True)\n",
    "RampNeu[\"E_cal_total\"]=(RampNeu[\"True\"]/(RampNeu[\"Layer1\"]+RampNeu[\"Layer2\"]+RampNeu[\"Layer3\"]+RampNeu[\"Layer4\"]+RampNeu[\"Layer5\"]+RampNeu[\"Layer6\"]+RampNeu[\"Layer7\"]+RampNeu[\"Layer8\"]+RampNeu[\"Layer9\"]+RampNeu[\"Layer10\"]))\n",
    "RampNeu = RampNeu.replace([np.inf, -np.inf], np.nan).dropna()\n",
    "E_cal_ramped = RampNeu[\"E_cal_total\"].mean()\n",
    "RampNeu[\"E_energy\"]=((((RampNeu[\"Layer1\"]+RampNeu[\"Layer2\"]+RampNeu[\"Layer3\"]+RampNeu[\"Layer4\"]+RampNeu[\"Layer5\"]+RampNeu[\"Layer6\"]+RampNeu[\"Layer7\"]+RampNeu[\"Layer8\"]+RampNeu[\"Layer9\"]+RampNeu[\"Layer10\"])*E_cal_ramped)-RampNeu[\"True\"])/RampNeu[\"True\"])"
   ]
  },
  {
   "cell_type": "code",
   "execution_count": 34,
   "metadata": {},
   "outputs": [],
   "source": [
    "RampPho = pd.read_csv( \"./Ramping_photon_new set up/output_nt_Energy.csv\", comment=\"#\", header=None)\n",
    "RampPho.rename(columns={0: 'True',1 : 'Layer1',2: 'Layer2',3: 'Layer3',4: 'Layer4',5: 'Layer5',6: 'Layer6',7: 'Layer7',8: 'Layer8',9: 'Layer9',10: 'Layer10'}, inplace=True)\n",
    "RampPho[\"E_cal_total\"]=(RampPho[\"True\"]/(RampPho[\"Layer1\"]+RampPho[\"Layer2\"]+RampPho[\"Layer3\"]+RampPho[\"Layer4\"]+RampPho[\"Layer5\"]+RampPho[\"Layer6\"]+RampPho[\"Layer7\"]+RampPho[\"Layer8\"]+RampPho[\"Layer9\"]+RampPho[\"Layer10\"]))\n",
    "RampPho = RampPho.replace([np.inf, -np.inf], np.nan).dropna()\n",
    "E_cal_ramped = RampPho[\"E_cal_total\"].mean()\n",
    "RampPho[\"E_energy\"]=((((RampPho[\"Layer1\"]+RampPho[\"Layer2\"]+RampPho[\"Layer3\"]+RampPho[\"Layer4\"]+RampPho[\"Layer5\"]+RampPho[\"Layer6\"]+RampPho[\"Layer7\"]+RampPho[\"Layer8\"]+RampPho[\"Layer9\"]+RampPho[\"Layer10\"])*E_cal_ramped)-RampPho[\"True\"])/RampPho[\"True\"])"
   ]
  },
  {
   "cell_type": "code",
   "execution_count": 35,
   "metadata": {},
   "outputs": [
    {
     "data": {
      "image/png": "[encoded data removed]",
      "text/plain": [
       "<Figure size 432x288 with 4 Axes>"
      ]
     },
     "metadata": {},
     "output_type": "display_data"
    }
   ],
   "source": [
    "plt.subplot(141)\n",
    "RampMuMin[\"E_energy\"].hist(bins='auto')\n",
    "plt.subplot(142)\n",
    "RampMuPlu[\"E_energy\"].hist(bins='auto')\n",
    "plt.subplot(143)\n",
    "RampNeu[\"E_energy\"].hist(bins='auto')\n",
    "plt.subplot(144)\n",
    "RampPho[\"E_energy\"].hist(bins='auto')\n",
    "plt.show()"
   ]
  },
  {
   "cell_type": "code",
   "execution_count": 36,
   "metadata": {
    "scrolled": true
   },
   "outputs": [
    {
     "data": {
      "text/plain": [
       "(12.705195627316632,\n",
       " 0.5531537353302125,\n",
       " 10974.765630767939,\n",
       " 301.71390909964407)"
      ]
     },
     "execution_count": 36,
     "metadata": {},
     "output_type": "execute_result"
    }
   ],
   "source": [
    "RampMuMin[\"E_energy\"].std(), RampMuPlu[\"E_energy\"].std(), RampNeu[\"E_energy\"].std(),RampPho[\"E_energy\"].std()"
   ]
  },
  {
   "cell_type": "markdown",
   "metadata": {},
   "source": [
    "The resolution for Neutrons and Photons was absolutely shocking. But the results for my muons was more strange. The mu- resolution was terrible but the resolution for the m+ was the best of the bunch. I'm assuming it has something to do with the magnetic field and way the experiment was located in the world."
   ]
  },
  {
   "cell_type": "code",
   "execution_count": 37,
   "metadata": {
    "scrolled": true
   },
   "outputs": [
    {
     "data": {
      "image/png": "[encoded data removed]",
      "text/plain": [
       "<Figure size 432x288 with 4 Axes>"
      ]
     },
     "metadata": {},
     "output_type": "display_data"
    }
   ],
   "source": [
    "plt.subplot(141)\n",
    "pl.hist2d( RampMuMin[\"True\"], RampMuMin[\"E_energy\"], bins=(100,50) )\n",
    "plt.subplot(142)\n",
    "pl.hist2d( RampMuPlu[\"True\"], RampMuPlu[\"E_energy\"], bins=(100,50) )\n",
    "plt.subplot(143)\n",
    "pl.hist2d( RampNeu[\"True\"], RampNeu[\"E_energy\"], bins=(100,50) )\n",
    "plt.subplot(144)\n",
    "pl.hist2d( RampPho[\"True\"], RampPho[\"E_energy\"], bins=(100,50) )\n",
    "plt.show()"
   ]
  },
  {
   "cell_type": "markdown",
   "metadata": {},
   "source": [
    "Next I added more layers to my new shape, I'm just messing around with it now, and lo and behold, my resolution becomes so much better"
   ]
  },
  {
   "cell_type": "code",
   "execution_count": 38,
   "metadata": {},
   "outputs": [],
   "source": [
    "ShapeLayers = pd.read_csv( \"./300MeV_mu-_newdetectorshapeandlayers/output_nt_Energy.csv\", comment=\"#\", header=None)\n",
    "ShapeLayers.rename(columns={0: 'True',1 : 'Layer1',2: 'Layer2',3: 'Layer3',4: 'Layer4',5: 'Layer5',6: 'Layer6',7: 'Layer7',8: 'Layer8',9: 'Layer9',10: 'Layer10'}, inplace=True)\n",
    "ShapeLayers[\"E_cal_total\"]=(ShapeLayers[\"True\"]/(ShapeLayers[\"Layer1\"]+ShapeLayers[\"Layer2\"]+ShapeLayers[\"Layer3\"]+ShapeLayers[\"Layer4\"]+ShapeLayers[\"Layer5\"]+ShapeLayers[\"Layer6\"]+ShapeLayers[\"Layer7\"]+ShapeLayers[\"Layer8\"]+ShapeLayers[\"Layer9\"]+ShapeLayers[\"Layer10\"]))\n",
    "ShapeLayers = ShapeLayers.replace([np.inf, -np.inf], np.nan).dropna()\n",
    "E_cal_ramped = ShapeLayers[\"E_cal_total\"].mean()\n",
    "ShapeLayers[\"E_energy\"]=((((ShapeLayers[\"Layer1\"]+ShapeLayers[\"Layer2\"]+ShapeLayers[\"Layer3\"]+ShapeLayers[\"Layer4\"]+ShapeLayers[\"Layer5\"]+ShapeLayers[\"Layer6\"]+ShapeLayers[\"Layer7\"]+ShapeLayers[\"Layer8\"]+ShapeLayers[\"Layer9\"]+ShapeLayers[\"Layer10\"])*E_cal_ramped)-ShapeLayers[\"True\"])/ShapeLayers[\"True\"])"
   ]
  },
  {
   "cell_type": "code",
   "execution_count": 39,
   "metadata": {},
   "outputs": [
    {
     "data": {
      "text/plain": [
       "<matplotlib.axes._subplots.AxesSubplot at 0x7fa97b4b0a10>"
      ]
     },
     "execution_count": 39,
     "metadata": {},
     "output_type": "execute_result"
    },
    {
     "data": {
      "image/png": "[encoded data removed]",
      "text/plain": [
       "<Figure size 432x288 with 1 Axes>"
      ]
     },
     "metadata": {},
     "output_type": "display_data"
    }
   ],
   "source": [
    "ShapeLayers[\"E_energy\"].hist(bins='auto')"
   ]
  },
  {
   "cell_type": "code",
   "execution_count": 40,
   "metadata": {},
   "outputs": [
    {
     "data": {
      "text/plain": [
       "(0.10422218811959, 0.0507074856720685)"
      ]
     },
     "execution_count": 40,
     "metadata": {},
     "output_type": "execute_result"
    }
   ],
   "source": [
    "ShapeLayers[\"E_energy\"].std(),MuMinus300M[\"E_energy\"].std()"
   ]
  },
  {
   "cell_type": "markdown",
   "metadata": {},
   "source": [
    "Still not great but better than before."
   ]
  },
  {
   "cell_type": "code",
   "execution_count": 41,
   "metadata": {
    "scrolled": true
   },
   "outputs": [
    {
     "data": {
      "image/png": "[encoded data removed]",
      "text/plain": [
       "<Figure size 432x288 with 2 Axes>"
      ]
     },
     "metadata": {},
     "output_type": "display_data"
    }
   ],
   "source": [
    "plt.subplot(121)\n",
    "plt.gca().set_title('mu- new shape&layers')\n",
    "pl.hist2d( ShapeLayers[\"True\"], ShapeLayers[\"E_energy\"], bins=(15,30) )\n",
    "plt.subplot(122)\n",
    "plt.gca().set_title('mu- prev')\n",
    "pl.hist2d( MuMinus300M[\"True\"], MuMinus300M[\"E_energy\"], bins=(15,30) )\n",
    "plt.show()"
   ]
  },
  {
   "cell_type": "markdown",
   "metadata": {},
   "source": [
    "Now I decide to switch from Brass to silicon for my absorbers. Suprisingly, the resolution decreased compared to Brass. Higher density wins here"
   ]
  },
  {
   "cell_type": "code",
   "execution_count": 42,
   "metadata": {},
   "outputs": [],
   "source": [
    "#New spherical shape made of silicon instead of brass\n",
    "ShapeMat = pd.read_csv( \"./300MeV_mu-_newdetectorshapeandmaterial/output_nt_Energy.csv\", comment=\"#\", header=None)\n",
    "ShapeMat.rename(columns={0: 'True',1 : 'Layer1',2: 'Layer2',3: 'Layer3',4: 'Layer4',5: 'Layer5'}, inplace=True)\n",
    "ShapeMat[\"E_cal_total\"]=(ShapeMat[\"True\"]/(ShapeMat[\"Layer1\"]+ShapeMat[\"Layer2\"]+ShapeMat[\"Layer3\"]+ShapeMat[\"Layer4\"]+ShapeMat[\"Layer5\"]))\n",
    "ShapeMat = ShapeMat.replace([np.inf, -np.inf], np.nan).dropna()\n",
    "E_cal_ramped = ShapeMat[\"E_cal_total\"].mean()\n",
    "ShapeMat[\"E_energy\"]=((((ShapeMat[\"Layer1\"]+ShapeMat[\"Layer2\"]+ShapeMat[\"Layer3\"]+ShapeMat[\"Layer4\"]+ShapeMat[\"Layer5\"])*E_cal_ramped)-ShapeMat[\"True\"])/ShapeMat[\"True\"])"
   ]
  },
  {
   "cell_type": "code",
   "execution_count": 43,
   "metadata": {},
   "outputs": [
    {
     "data": {
      "text/plain": [
       "[]"
      ]
     },
     "execution_count": 43,
     "metadata": {},
     "output_type": "execute_result"
    },
    {
     "data": {
      "image/png": "[encoded data removed]",
      "text/plain": [
       "<Figure size 432x288 with 1 Axes>"
      ]
     },
     "metadata": {},
     "output_type": "display_data"
    }
   ],
   "source": [
    "ShapeMat[\"E_energy\"].hist(bins='auto')\n",
    "plt.plot()"
   ]
  },
  {
   "cell_type": "code",
   "execution_count": 44,
   "metadata": {},
   "outputs": [
    {
     "data": {
      "text/plain": [
       "0.18083783271545487"
      ]
     },
     "execution_count": 44,
     "metadata": {},
     "output_type": "execute_result"
    }
   ],
   "source": [
    "ShapeMat[\"E_energy\"].std()"
   ]
  },
  {
   "cell_type": "code",
   "execution_count": 45,
   "metadata": {
    "scrolled": true
   },
   "outputs": [
    {
     "data": {
      "image/png": "[encoded data removed]",
      "text/plain": [
       "<Figure size 432x288 with 3 Axes>"
      ]
     },
     "metadata": {},
     "output_type": "display_data"
    }
   ],
   "source": [
    "ax2 = plt.subplot(132)\n",
    "plt.subplot(132)\n",
    "plt.gca().set_title('mu- prev')\n",
    "pl.hist2d( MuMinus300M[\"True\"], MuMinus300M[\"E_energy\"], bins=(15,30) )\n",
    "ax1 = plt.subplot(131,sharey=ax2)\n",
    "plt.subplot(131)\n",
    "plt.gca().set_title('mu- new shape&layers')\n",
    "pl.hist2d( ShapeLayers[\"True\"], ShapeLayers[\"E_energy\"], bins=(15,30) )\n",
    "ax3 = plt.subplot(133)\n",
    "plt.subplot(133 ,sharey=ax2)\n",
    "plt.gca().set_title('mu- new shape&material')\n",
    "pl.hist2d( ShapeMat[\"True\"], ShapeMat[\"E_energy\"], bins=(15,30) )\n",
    "plt.show()"
   ]
  },
  {
   "cell_type": "markdown",
   "metadata": {},
   "source": [
    "# DID improvements actually get better??"
   ]
  },
  {
   "cell_type": "markdown",
   "metadata": {},
   "source": [
    "I decided to use the NN we've been using, and train it on the data gathered for generic mu-, mu- fired through more layers, mu- fired through the new shape etc to see if the resolution of the NN would be decent considering the small data size that it would have to work with, I left the learning rates and epochs all the same so I could make a meaningful comparison.\n"
   ]
  },
  {
   "cell_type": "code",
   "execution_count": 46,
   "metadata": {},
   "outputs": [],
   "source": [
    "# Generated Mu- by the NN from basic 2000x 300MeV Mu- from the original detector set up\n",
    "GenMuMinus300M = pd.read_csv( \"./300MeV_mu-/generatedData.csv\", comment=\"#\", header=None)\n",
    "GenMuMinus300M.rename(columns={0: 'True', 1: 'Layer1',2: 'Layer2',3: 'Layer3',4: 'Layer4',5: 'Layer5'}, inplace=True)\n",
    "GenMuMinus300M[\"E_cal_total\"]=(GenMuMinus300M[\"True\"]/(GenMuMinus300M[\"Layer1\"]+GenMuMinus300M[\"Layer2\"]+GenMuMinus300M[\"Layer3\"]+GenMuMinus300M[\"Layer4\"]+GenMuMinus300M[\"Layer5\"]))\n",
    "E_cal = GenMuMinus300M[\"E_cal_total\"].mean()\n",
    "GenMuMinus300M[\"E_energy\"]=((((GenMuMinus300M[\"Layer1\"]+GenMuMinus300M[\"Layer2\"]+GenMuMinus300M[\"Layer3\"]+GenMuMinus300M[\"Layer4\"]+GenMuMinus300M[\"Layer5\"])*E_cal)-GenMuMinus300M[\"True\"])/GenMuMinus300M[\"True\"])"
   ]
  },
  {
   "cell_type": "code",
   "execution_count": 47,
   "metadata": {},
   "outputs": [
    {
     "data": {
      "image/png": "[encoded data removed]",
      "text/plain": [
       "<Figure size 432x288 with 2 Axes>"
      ]
     },
     "metadata": {},
     "output_type": "display_data"
    }
   ],
   "source": [
    "plt.subplot(121)\n",
    "plt.xlim(-5,5)\n",
    "plt.gca().set_title('generated mu-')\n",
    "GenMuMinus300M[\"E_energy\"].hist(bins='auto')\n",
    "plt.subplot(122)\n",
    "plt.gca().set_title('mu-')\n",
    "MuMinus300M[\"E_energy\"].hist(bins='auto')\n",
    "plt.show()"
   ]
  },
  {
   "cell_type": "code",
   "execution_count": 48,
   "metadata": {},
   "outputs": [
    {
     "data": {
      "text/plain": [
       "(10.75831522017621, 0.0507074856720685)"
      ]
     },
     "execution_count": 48,
     "metadata": {},
     "output_type": "execute_result"
    }
   ],
   "source": [
    "GenMuMinus300M[\"E_energy\"].std(),MuMinus300M[\"E_energy\"].std()"
   ]
  },
  {
   "cell_type": "markdown",
   "metadata": {},
   "source": [
    "As expected the resolution was nowhere near as good at the original mu- resolution."
   ]
  },
  {
   "cell_type": "markdown",
   "metadata": {},
   "source": [
    "So now I added more layers (5 -> 10)"
   ]
  },
  {
   "cell_type": "code",
   "execution_count": 49,
   "metadata": {},
   "outputs": [],
   "source": [
    "genmuminuslayers300M = pd.read_csv( \"./300MeV_mu-_moredetectorlayers/generatedData.csv\", comment=\"#\", header=None)\n",
    "genmuminuslayers300M.rename(columns={0: 'True', 1: 'Layer1',2: 'Layer2',3: 'Layer3',4: 'Layer4',5: 'Layer5'}, inplace=True)\n",
    "genmuminuslayers300M[\"E_cal_total\"]=(genmuminuslayers300M[\"True\"]/(genmuminuslayers300M[\"Layer1\"]+genmuminuslayers300M[\"Layer2\"]+genmuminuslayers300M[\"Layer3\"]+genmuminuslayers300M[\"Layer4\"]+genmuminuslayers300M[\"Layer5\"]))\n",
    "E_cal = genmuminuslayers300M[\"E_cal_total\"].mean()\n",
    "genmuminuslayers300M[\"E_energy\"]=((((genmuminuslayers300M[\"Layer1\"]+genmuminuslayers300M[\"Layer2\"]+genmuminuslayers300M[\"Layer3\"]+genmuminuslayers300M[\"Layer4\"]+genmuminuslayers300M[\"Layer5\"])*E_cal)-genmuminuslayers300M[\"True\"])/genmuminuslayers300M[\"True\"])"
   ]
  },
  {
   "cell_type": "code",
   "execution_count": 50,
   "metadata": {},
   "outputs": [
    {
     "data": {
      "image/png": "[encoded data removed]",
      "text/plain": [
       "<Figure size 432x288 with 2 Axes>"
      ]
     },
     "metadata": {},
     "output_type": "display_data"
    }
   ],
   "source": [
    "plt.subplot(121)\n",
    "plt.xlim(-5,5)\n",
    "plt.gca().set_title('generated mu-')\n",
    "GenMuMinus300M[\"E_energy\"].hist(bins='auto')\n",
    "plt.subplot(122)\n",
    "plt.gca().set_title('more layers mu-')\n",
    "genmuminuslayers300M[\"E_energy\"].hist(bins='auto')\n",
    "plt.show()"
   ]
  },
  {
   "cell_type": "code",
   "execution_count": 51,
   "metadata": {},
   "outputs": [
    {
     "data": {
      "text/plain": [
       "(10.75831522017621, 0.18609538912362972)"
      ]
     },
     "execution_count": 51,
     "metadata": {},
     "output_type": "execute_result"
    }
   ],
   "source": [
    "GenMuMinus300M[\"E_energy\"].std(),genmuminuslayers300M[\"E_energy\"].std()"
   ]
  },
  {
   "cell_type": "markdown",
   "metadata": {},
   "source": [
    "This is a huge improvement of almost 100x. Although I believe I have figured where I made the critical mistake that you will most likely notice when all the data is shown together at the end."
   ]
  },
  {
   "cell_type": "markdown",
   "metadata": {},
   "source": [
    "Now firing the Mu- through the new shaped detectors/absorbers."
   ]
  },
  {
   "cell_type": "code",
   "execution_count": 52,
   "metadata": {},
   "outputs": [],
   "source": [
    "genmuminusshape300M = pd.read_csv( \"./300MeV_mu-_newdetectorshape/generatedData.csv\", comment=\"#\", header=None)\n",
    "genmuminusshape300M.rename(columns={0: 'True', 1: 'Layer1',2: 'Layer2',3: 'Layer3',4: 'Layer4',5: 'Layer5'}, inplace=True)\n",
    "genmuminusshape300M[\"E_cal_total\"]=(genmuminusshape300M[\"True\"]/(genmuminusshape300M[\"Layer1\"]+genmuminusshape300M[\"Layer2\"]+genmuminusshape300M[\"Layer3\"]+genmuminusshape300M[\"Layer4\"]+genmuminusshape300M[\"Layer5\"]))\n",
    "E_cal = genmuminusshape300M[\"E_cal_total\"].mean()\n",
    "genmuminusshape300M[\"E_energy\"]=((((genmuminusshape300M[\"Layer1\"]+genmuminusshape300M[\"Layer2\"]+genmuminusshape300M[\"Layer3\"]+genmuminusshape300M[\"Layer4\"]+genmuminusshape300M[\"Layer5\"])*E_cal)-genmuminusshape300M[\"True\"])/genmuminusshape300M[\"True\"])"
   ]
  },
  {
   "cell_type": "code",
   "execution_count": 53,
   "metadata": {},
   "outputs": [
    {
     "data": {
      "image/png": "[encoded data removed]",
      "text/plain": [
       "<Figure size 432x288 with 2 Axes>"
      ]
     },
     "metadata": {},
     "output_type": "display_data"
    }
   ],
   "source": [
    "plt.subplot(121)\n",
    "plt.gca().set_title('more layers mu-')\n",
    "genmuminuslayers300M[\"E_energy\"].hist(bins='auto')\n",
    "plt.subplot(122)\n",
    "plt.gca().set_title('new shape mu-')\n",
    "genmuminusshape300M[\"E_energy\"].hist(bins='auto')\n",
    "plt.show()"
   ]
  },
  {
   "cell_type": "code",
   "execution_count": 54,
   "metadata": {
    "scrolled": true
   },
   "outputs": [
    {
     "data": {
      "text/plain": [
       "(0.18609538912362972, 0.011955698992034948)"
      ]
     },
     "execution_count": 54,
     "metadata": {},
     "output_type": "execute_result"
    }
   ],
   "source": [
    "genmuminuslayers300M[\"E_energy\"].std(),genmuminusshape300M[\"E_energy\"].std()"
   ]
  },
  {
   "cell_type": "markdown",
   "metadata": {},
   "source": [
    "Strangely, completely opposite to the real data, the generated data resolution is much more accurate. The best resolution I've managed to get yet."
   ]
  },
  {
   "cell_type": "markdown",
   "metadata": {},
   "source": [
    "So to improve, I add more layers of the new shape."
   ]
  },
  {
   "cell_type": "code",
   "execution_count": 55,
   "metadata": {},
   "outputs": [],
   "source": [
    "shapelayersnew = pd.read_csv( \"./300MeV_mu-_newdetectorshapeandlayers/generatedData.csv\", comment=\"#\", header=None)\n",
    "shapelayersnew.rename(columns={0: 'True', 1: 'Layer1',2: 'Layer2',3: 'Layer3',4: 'Layer4',5: 'Layer5'}, inplace=True)\n",
    "shapelayersnew[\"E_cal_total\"]=(shapelayersnew[\"True\"]/(shapelayersnew[\"Layer1\"]+shapelayersnew[\"Layer2\"]+shapelayersnew[\"Layer3\"]+shapelayersnew[\"Layer4\"]+shapelayersnew[\"Layer5\"]))\n",
    "E_cal = shapelayersnew[\"E_cal_total\"].mean()\n",
    "shapelayersnew[\"E_energy\"]=((((shapelayersnew[\"Layer1\"]+shapelayersnew[\"Layer2\"]+shapelayersnew[\"Layer3\"]+shapelayersnew[\"Layer4\"]+shapelayersnew[\"Layer5\"])*E_cal)-shapelayersnew[\"True\"])/shapelayersnew[\"True\"])"
   ]
  },
  {
   "cell_type": "code",
   "execution_count": 56,
   "metadata": {},
   "outputs": [
    {
     "data": {
      "image/png": "[encoded data removed]",
      "text/plain": [
       "<Figure size 432x288 with 2 Axes>"
      ]
     },
     "metadata": {},
     "output_type": "display_data"
    }
   ],
   "source": [
    "plt.subplot(121)\n",
    "plt.gca().set_title('new shape mu-')\n",
    "genmuminusshape300M[\"E_energy\"].hist(bins='auto')\n",
    "plt.subplot(122)\n",
    "plt.gca().set_title('new shape and layers mu-')\n",
    "shapelayersnew[\"E_energy\"].hist(bins='auto')\n",
    "plt.show()"
   ]
  },
  {
   "cell_type": "code",
   "execution_count": 57,
   "metadata": {},
   "outputs": [
    {
     "data": {
      "text/plain": [
       "(0.011955698992034948, 0.24109045742858112)"
      ]
     },
     "execution_count": 57,
     "metadata": {},
     "output_type": "execute_result"
    }
   ],
   "source": [
    "genmuminusshape300M[\"E_energy\"].std(),shapelayersnew[\"E_energy\"].std()"
   ]
  },
  {
   "cell_type": "markdown",
   "metadata": {},
   "source": [
    "And now I end up back where I expected to be."
   ]
  },
  {
   "cell_type": "markdown",
   "metadata": {},
   "source": [
    "Maybe changing the material (Brass -> Silicon) will improve the resolution."
   ]
  },
  {
   "cell_type": "code",
   "execution_count": 58,
   "metadata": {},
   "outputs": [],
   "source": [
    "shapematnew = pd.read_csv( \"./300MeV_mu-_newdetectorshapeandmaterial/generatedData.csv\", comment=\"#\", header=None)\n",
    "shapematnew.rename(columns={0: 'True', 1: 'Layer1',2: 'Layer2',3: 'Layer3',4: 'Layer4',5: 'Layer5'}, inplace=True)\n",
    "shapematnew[\"E_cal_total\"]=(shapematnew[\"True\"]/(shapematnew[\"Layer1\"]+shapematnew[\"Layer2\"]+shapematnew[\"Layer3\"]+shapematnew[\"Layer4\"]+shapematnew[\"Layer5\"]))\n",
    "E_cal = shapematnew[\"E_cal_total\"].mean()\n",
    "shapematnew[\"E_energy\"]=((((shapematnew[\"Layer1\"]+shapematnew[\"Layer2\"]+shapematnew[\"Layer3\"]+shapematnew[\"Layer4\"]+shapematnew[\"Layer5\"])*E_cal)-shapematnew[\"True\"])/shapematnew[\"True\"])"
   ]
  },
  {
   "cell_type": "code",
   "execution_count": 59,
   "metadata": {},
   "outputs": [
    {
     "data": {
      "image/png": "[encoded data removed]",
      "text/plain": [
       "<Figure size 432x288 with 2 Axes>"
      ]
     },
     "metadata": {},
     "output_type": "display_data"
    }
   ],
   "source": [
    "plt.subplot(121)\n",
    "plt.gca().set_title('new shape and layers mu-')\n",
    "shapelayersnew[\"E_energy\"].hist(bins='auto')\n",
    "plt.subplot(122)\n",
    "plt.gca().set_title('new shape and material mu-')\n",
    "shapematnew[\"E_energy\"].hist(bins='auto')\n",
    "plt.show()"
   ]
  },
  {
   "cell_type": "code",
   "execution_count": 60,
   "metadata": {
    "scrolled": true
   },
   "outputs": [
    {
     "data": {
      "text/plain": [
       "(0.24109045742858112, 0.0178875813579413)"
      ]
     },
     "execution_count": 60,
     "metadata": {},
     "output_type": "execute_result"
    }
   ],
   "source": [
    "shapelayersnew[\"E_energy\"].std(), shapematnew[\"E_energy\"].std()"
   ]
  },
  {
   "cell_type": "markdown",
   "metadata": {},
   "source": [
    "Now this was where I was really confused, BUT if you look through the final graphs you'll probably instantly see why."
   ]
  },
  {
   "cell_type": "code",
   "execution_count": 61,
   "metadata": {
    "scrolled": true
   },
   "outputs": [
    {
     "data": {
      "text/plain": [
       "[]"
      ]
     },
     "execution_count": 61,
     "metadata": {},
     "output_type": "execute_result"
    },
    {
     "data": {
      "image/png": "[encoded data removed]",
      "text/plain": [
       "<Figure size 432x288 with 3 Axes>"
      ]
     },
     "metadata": {},
     "output_type": "display_data"
    }
   ],
   "source": [
    "plt.subplot(131)\n",
    "plt.gca().set_title('mu-')\n",
    "pl.hist2d( GenMuMinus300M[\"True\"], GenMuMinus300M[\"E_energy\"], bins=(100,50) )\n",
    "plt.subplot(132)\n",
    "plt.gca().set_title('more layers mu-')\n",
    "pl.hist2d( genmuminuslayers300M[\"True\"], genmuminuslayers300M[\"E_energy\"], bins=(100,50))\n",
    "plt.subplot(133)\n",
    "plt.gca().set_title('new shape mu-')\n",
    "pl.hist2d( genmuminusshape300M[\"True\"], genmuminusshape300M[\"E_energy\"], bins=(100,50) )\n",
    "plt.plot()"
   ]
  },
  {
   "cell_type": "code",
   "execution_count": 62,
   "metadata": {},
   "outputs": [
    {
     "data": {
      "text/plain": [
       "(0.011955698992034948, 0.0507074856720685)"
      ]
     },
     "execution_count": 62,
     "metadata": {},
     "output_type": "execute_result"
    }
   ],
   "source": [
    "genmuminusshape300M[\"E_energy\"].std(), MuMinus300M[\"E_energy\"].std()"
   ]
  },
  {
   "cell_type": "code",
   "execution_count": 63,
   "metadata": {},
   "outputs": [
    {
     "data": {
      "text/plain": [
       "[]"
      ]
     },
     "execution_count": 63,
     "metadata": {},
     "output_type": "execute_result"
    },
    {
     "data": {
      "image/png": "[encoded data removed]",
      "text/plain": [
       "<Figure size 432x288 with 2 Axes>"
      ]
     },
     "metadata": {},
     "output_type": "display_data"
    }
   ],
   "source": [
    "plt.subplot(121)\n",
    "plt.gca().set_title('new shape/layers mu-')\n",
    "pl.hist2d( shapelayersnew[\"True\"], shapelayersnew[\"E_energy\"], bins=(100,50) )\n",
    "plt.subplot(122)\n",
    "plt.gca().set_title('new shap3/material mu-')\n",
    "pl.hist2d( shapematnew[\"True\"], shapematnew[\"E_energy\"], bins=(100,50) )\n",
    "plt.plot()"
   ]
  },
  {
   "cell_type": "markdown",
   "metadata": {},
   "source": [
    "I immediately noticed that the x-axis for the first two graphs were wrong. Completely wrong, I went back and checked the original data files that the NN was learning from. There were 2 columns full of 0's from where I had messed up my Ntuples. \n",
    "\n",
    "Previously (towards the top of the notebook) I was importing that data, dropping the columns and renaming them into better labels etc. However, I didn't take into account that the neural network wouldn't understand this and as such it has skewed my results. However, for the two resolutions that were really good, the original datafile it learns from didn't have the 0 columns issue from bad ntuples.\n",
    "\n",
    "Sadly, the x-axis are different for most of the resolutions so I can't infer a trend. All I can safely say is that the shape of the new detector gives a great resolution compared to the disk shaped detectors (even when the seen in this particular section is N generated data having learnt from a very small subset.). Comparing the resolution for the GENERATED data vs REAL data. The generated data gives a better resolution. I think I can then safely assume that the new shape is better. Hence, an improvement."
   ]
  },
  {
   "cell_type": "markdown",
   "metadata": {},
   "source": [
    "# Conclusion\n",
    "\n",
    "My data shows that my experiment gives better resolutions on particles with lower masses (muons vs protons/neutrons). Also from just looking at the tracking data files including, you can distinguish between a charged particle and non-charged particle via the angle they deviate from the x-axis (my magnetic field was in the y-axis). For example, the mu+ would bend in the field whilst the neutron would not.\n",
    "\n",
    "It is also clearly shown that the hollow half-sphere is a better detector shape than a flat disk. Giving an almost 5x improvement in resolution between NN generated data and REAL data. I'm sure if the NN had better data to train on in other areas, it would be clear that more layers give a better resolution too as can be seen from my resolutions below. First is the new shape with more layers, second is just the new shape. The resolutions improves.\n",
    "\n",
    "I can conclude, geometries that cover a larger area will improve resolution. More layers will also improve resolution.\n",
    "\n",
    "Next time I would like to include more investigation into materials and resolution."
   ]
  },
  {
   "cell_type": "code",
   "execution_count": 64,
   "metadata": {},
   "outputs": [
    {
     "data": {
      "text/plain": [
       "(0.10422218811959, 0.16810382428236212)"
      ]
     },
     "execution_count": 64,
     "metadata": {},
     "output_type": "execute_result"
    }
   ],
   "source": [
    "ShapeLayers[\"E_energy\"].std(), MuMinusShape300M[\"E_energy\"].std()"
   ]
  }
 ],
 "metadata": {
  "kernelspec": {
   "display_name": "Python 2",
   "language": "python",
   "name": "python2"
  },
  "language_info": {
   "codemirror_mode": {
    "name": "ipython",
    "version": 2
   },
   "file_extension": ".py",
   "mimetype": "text/x-python",
   "name": "python",
   "nbconvert_exporter": "python",
   "pygments_lexer": "ipython2",
   "version": "2.7.5"
  }
 },
 "nbformat": 4,
 "nbformat_minor": 2
}
